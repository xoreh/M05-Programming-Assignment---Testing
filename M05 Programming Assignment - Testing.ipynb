{
 "cells": [
  {
   "cell_type": "code",
   "execution_count": 1,
   "id": "d1c05e67",
   "metadata": {},
   "outputs": [],
   "source": [
    "#Jordy Jordan\n",
    "#11/23/2022\n",
    "# 1 Testing Your Code\n",
    "\n",
    "#this will display nothing because everything is correct\n",
    "assert sum([1, 2, 3]) == 6, \"Should be 6\""
   ]
  },
  {
   "cell_type": "code",
   "execution_count": 2,
   "id": "08ba475e",
   "metadata": {},
   "outputs": [
    {
     "ename": "AssertionError",
     "evalue": "Should be 6",
     "output_type": "error",
     "traceback": [
      "\u001b[1;31m---------------------------------------------------------------------------\u001b[0m",
      "\u001b[1;31mAssertionError\u001b[0m                            Traceback (most recent call last)",
      "\u001b[1;32m~\\AppData\\Local\\Temp\\ipykernel_2560\\788316157.py\u001b[0m in \u001b[0;36m<module>\u001b[1;34m\u001b[0m\n\u001b[0;32m      1\u001b[0m \u001b[1;31m#now this will display an error becouse the values are wrong\u001b[0m\u001b[1;33m\u001b[0m\u001b[1;33m\u001b[0m\u001b[0m\n\u001b[1;32m----> 2\u001b[1;33m \u001b[1;32massert\u001b[0m \u001b[0msum\u001b[0m\u001b[1;33m(\u001b[0m\u001b[1;33m[\u001b[0m\u001b[1;36m3\u001b[0m\u001b[1;33m,\u001b[0m \u001b[1;36m3\u001b[0m\u001b[1;33m,\u001b[0m \u001b[1;36m3\u001b[0m\u001b[1;33m]\u001b[0m\u001b[1;33m)\u001b[0m \u001b[1;33m==\u001b[0m \u001b[1;36m6\u001b[0m\u001b[1;33m,\u001b[0m \u001b[1;34m\"Should be 6\"\u001b[0m\u001b[1;33m\u001b[0m\u001b[1;33m\u001b[0m\u001b[0m\n\u001b[0m",
      "\u001b[1;31mAssertionError\u001b[0m: Should be 6"
     ]
    }
   ],
   "source": [
    "#now this will display an error becouse the values are wrong\n",
    "assert sum([3, 3, 3]) == 6, \"Should be 6\""
   ]
  },
  {
   "cell_type": "code",
   "execution_count": 3,
   "id": "dfcfb903",
   "metadata": {},
   "outputs": [
    {
     "name": "stdout",
     "output_type": "stream",
     "text": [
      "Everything passed\n"
     ]
    }
   ],
   "source": [
    "#The following code should be on a test_sum.py file\n",
    "#if the output is \"Everything passed\" then it was successful \n",
    "def test_sum():\n",
    "    assert sum([1, 2, 3]) == 6, \"Should be 6\"\n",
    "\n",
    "if __name__ == \"__main__\":\n",
    "    test_sum()\n",
    "    print(\"Everything passed\")"
   ]
  },
  {
   "cell_type": "code",
   "execution_count": 4,
   "id": "bc9be41b",
   "metadata": {},
   "outputs": [
    {
     "ename": "AssertionError",
     "evalue": "Should be 6",
     "output_type": "error",
     "traceback": [
      "\u001b[1;31m---------------------------------------------------------------------------\u001b[0m",
      "\u001b[1;31mAssertionError\u001b[0m                            Traceback (most recent call last)",
      "\u001b[1;32m~\\AppData\\Local\\Temp\\ipykernel_2560\\1939859061.py\u001b[0m in \u001b[0;36m<module>\u001b[1;34m\u001b[0m\n\u001b[0;32m     13\u001b[0m \u001b[1;32mif\u001b[0m \u001b[0m__name__\u001b[0m \u001b[1;33m==\u001b[0m \u001b[1;34m\"__main__\"\u001b[0m\u001b[1;33m:\u001b[0m\u001b[1;33m\u001b[0m\u001b[1;33m\u001b[0m\u001b[0m\n\u001b[0;32m     14\u001b[0m     \u001b[0mtest_sum\u001b[0m\u001b[1;33m(\u001b[0m\u001b[1;33m)\u001b[0m\u001b[1;33m\u001b[0m\u001b[1;33m\u001b[0m\u001b[0m\n\u001b[1;32m---> 15\u001b[1;33m     \u001b[0mtest_sum_tuple\u001b[0m\u001b[1;33m(\u001b[0m\u001b[1;33m)\u001b[0m\u001b[1;33m\u001b[0m\u001b[1;33m\u001b[0m\u001b[0m\n\u001b[0m\u001b[0;32m     16\u001b[0m     \u001b[0mprint\u001b[0m\u001b[1;33m(\u001b[0m\u001b[1;34m\"Everything passed\"\u001b[0m\u001b[1;33m)\u001b[0m\u001b[1;33m\u001b[0m\u001b[1;33m\u001b[0m\u001b[0m\n",
      "\u001b[1;32m~\\AppData\\Local\\Temp\\ipykernel_2560\\1939859061.py\u001b[0m in \u001b[0;36mtest_sum_tuple\u001b[1;34m()\u001b[0m\n\u001b[0;32m      9\u001b[0m \u001b[1;31m#It will give an error because the tuple is not equals to 6\u001b[0m\u001b[1;33m\u001b[0m\u001b[1;33m\u001b[0m\u001b[0m\n\u001b[0;32m     10\u001b[0m \u001b[1;32mdef\u001b[0m \u001b[0mtest_sum_tuple\u001b[0m\u001b[1;33m(\u001b[0m\u001b[1;33m)\u001b[0m\u001b[1;33m:\u001b[0m\u001b[1;33m\u001b[0m\u001b[1;33m\u001b[0m\u001b[0m\n\u001b[1;32m---> 11\u001b[1;33m     \u001b[1;32massert\u001b[0m \u001b[0msum\u001b[0m\u001b[1;33m(\u001b[0m\u001b[1;33m(\u001b[0m\u001b[1;36m1\u001b[0m\u001b[1;33m,\u001b[0m \u001b[1;36m2\u001b[0m\u001b[1;33m,\u001b[0m \u001b[1;36m2\u001b[0m\u001b[1;33m)\u001b[0m\u001b[1;33m)\u001b[0m \u001b[1;33m==\u001b[0m \u001b[1;36m6\u001b[0m\u001b[1;33m,\u001b[0m \u001b[1;34m\"Should be 6\"\u001b[0m\u001b[1;33m\u001b[0m\u001b[1;33m\u001b[0m\u001b[0m\n\u001b[0m\u001b[0;32m     12\u001b[0m \u001b[1;33m\u001b[0m\u001b[0m\n\u001b[0;32m     13\u001b[0m \u001b[1;32mif\u001b[0m \u001b[0m__name__\u001b[0m \u001b[1;33m==\u001b[0m \u001b[1;34m\"__main__\"\u001b[0m\u001b[1;33m:\u001b[0m\u001b[1;33m\u001b[0m\u001b[1;33m\u001b[0m\u001b[0m\n",
      "\u001b[1;31mAssertionError\u001b[0m: Should be 6"
     ]
    }
   ],
   "source": [
    "#This will be a new file called test_sum_2.py\n",
    "#Now it will be tested on a tuple \"sum(())\" \n",
    "\n",
    "#This is a list\n",
    "def test_sum():\n",
    "    assert sum([1, 2, 3]) == 6, \"Should be 6\"\n",
    "\n",
    "#New tuple \n",
    "#It will give an error because the tuple is not equals to 6\n",
    "def test_sum_tuple():\n",
    "    assert sum((1, 2, 2)) == 6, \"Should be 6\"\n",
    "\n",
    "if __name__ == \"__main__\":\n",
    "    test_sum()\n",
    "    test_sum_tuple()\n",
    "    print(\"Everything passed\")"
   ]
  },
  {
   "cell_type": "code",
   "execution_count": 5,
   "id": "1dfead55",
   "metadata": {},
   "outputs": [],
   "source": [
    "#The following will be done on a python file not on notebook\n",
    "# 1.5 The Choosing a Test Runner\n",
    "#the unittest \n",
    "#This is the following error when the file is run\n",
    "#Exception has occurred: SystemExit\n",
    "#True\n",
    "#  File \"C:\\Users\\jorda\\Documents\\ACODE\\IvyTechCode\\M05 Programming Assignment - Testing\\test_sum_unittest.py\", line 13, in <module>\n",
    "#    unittest.main()\n",
    "\n",
    "#terminal\n",
    "#Ran 2 tests in 0.003s\n",
    "\n",
    "#FAILED (failures=1)\n",
    "\n",
    "\n",
    "\n",
    "#the nose\n",
    "######pip install nose2######\n",
    "#Installing collected packages: nose2\n",
    "#Successfully installed nose2-0.12.0\n",
    "\n",
    "######python -m nose2######\n",
    "#PS C:\\Users\\jorda\\Documents\\ACODE\\IvyTechCode\\M05 Programming Assignment - Testing> python -m nose2\n",
    "#it gave me an error\n",
    "\n",
    "#..F\n",
    "#======================================================================\n",
    "#FAIL: test_sum_tuple (test_sum_unittest.TestSum.test_sum_tuple)       \n",
    "#----------------------------------------------------------------------\n",
    "#Traceback (most recent call last):\n",
    "#  File \"C:\\Users\\jorda\\Documents\\ACODE\\IvyTechCode\\M05 Programming Assignment - Testing\\test_sum_unittest.py\", line 10, in test_sum_tuple\n",
    "#    self.assertEqual(sum((1, 2, 2)), 6, \"Should be 6\")\n",
    "#AssertionError: 5 != 6 : Should be 6\n",
    "\n",
    "#----------------------------------------------------------------------\n",
    "#Ran 3 tests in 0.000s\n",
    "\n",
    "#FAILED (failures=1)\n",
    "\n",
    "\n",
    "\n",
    "\n",
    "######the pytest######\n",
    "#nothing happens because everything is correct\n",
    "#def test_sum():\n",
    "#    assert sum([1, 2, 3]) == 6, \"Should be 6\"\n",
    "\n",
    "#def test_sum_tuple():\n",
    "#    assert sum((1, 2, 2)) == 6, \"Should be 6\""
   ]
  },
  {
   "cell_type": "code",
   "execution_count": 6,
   "id": "aa4cfec1",
   "metadata": {},
   "outputs": [],
   "source": [
    "# 2 Writing Your First Test\n",
    "\n",
    "#This is how the folders should be\n",
    "\n",
    "#project             -main folder\n",
    "#   my_sum           -sub folder\n",
    "#       __init__.py  -python file\n",
    "\n",
    "#In __init__.py\n",
    "def sum(arg):\n",
    "    total = 0\n",
    "    for val in arg:\n",
    "        total += val\n",
    "    return total"
   ]
  },
  {
   "cell_type": "code",
   "execution_count": null,
   "id": "3285d6e3",
   "metadata": {},
   "outputs": [],
   "source": [
    "#The unittest part\n",
    "#import unittest\n",
    "#This will only work on a python file not on notebook\n",
    "\n",
    "from my_sum import sum\n",
    "\n",
    "\n",
    "class TestSum(unittest.TestCase):\n",
    "    def test_list_int(self):\n",
    "        \"\"\"\n",
    "        Test that it can sum a list of integers\n",
    "        \"\"\"\n",
    "        data = [1, 2, 3]\n",
    "        result = sum(data)\n",
    "        self.assertEqual(result, 6)\n",
    "\n",
    "if __name__ == '__main__':\n",
    "    unittest.main()\n",
    "\n",
    "#it runs well and the output is\n",
    "\n",
    "#Ran 1 test in 0.001s\n",
    "\n",
    "#OK\n"
   ]
  },
  {
   "cell_type": "code",
   "execution_count": null,
   "id": "9a36536f",
   "metadata": {},
   "outputs": [],
   "source": [
    "#This will also not work on notebook \n",
    "#it must be on a python file\n",
    "\n",
    "# 3 Where to Write the Test\n",
    "import unittest\n",
    "from my_sum import sum\n",
    "\n",
    "#Understanding Test Output Part\n",
    "from fractions import Fraction\n",
    "\n",
    "class TestSum(unittest.TestCase):\n",
    "    def test_list_int(self):\n",
    "        \"\"\"\n",
    "        Test that it can sum a list of integers\n",
    "        \"\"\"\n",
    "        data = [1, 2, 3]\n",
    "        result = sum(data)\n",
    "        self.assertEqual(result, 6)\n",
    "\n",
    "#New def with Understanding Test Outputs\n",
    "    def test_list_fraction(self):\n",
    "        \"\"\"\n",
    "        Test that it can sum a list of fractions\n",
    "        \"\"\"\n",
    "        data = [Fraction(1, 4), Fraction(1, 4), Fraction(2, 5)]\n",
    "        result = sum(data)\n",
    "        self.assertEqual(result, 1)\n",
    "\n",
    "if __name__ == '__main__':\n",
    "    unittest.main()\n",
    "\n",
    "#I get this error-------->\n",
    "#Traceback (most recent call last):\n",
    "#  File \"c:\\Users\\jorda\\Documents\\ACODE\\IvyTechCode\\M05 Programming Assignment - Testing\\test.py\", line 27, in test_list_fraction\n",
    "#    self.assertEqual(result, 1)\n",
    "#AssertionError: Fraction(9, 10) != 1\n",
    "\n",
    "#To me this error basically means that the sum of the fractions on test_list_fraction\n",
    "#more specifically on result, is not equals to 1 on self.assertEqual(result, 1)\n",
    "#for example when I run TestSum alone I do not get any erros, instead I get an OK message!"
   ]
  }
 ],
 "metadata": {
  "kernelspec": {
   "display_name": "Python 3 (ipykernel)",
   "language": "python",
   "name": "python3"
  },
  "language_info": {
   "codemirror_mode": {
    "name": "ipython",
    "version": 3
   },
   "file_extension": ".py",
   "mimetype": "text/x-python",
   "name": "python",
   "nbconvert_exporter": "python",
   "pygments_lexer": "ipython3",
   "version": "3.9.13"
  },
  "vscode": {
   "interpreter": {
    "hash": "5238573367df39f7286bb46f9ff5f08f63a01a80960060ce41e3c79b190280fa"
   }
  }
 },
 "nbformat": 4,
 "nbformat_minor": 5
}
